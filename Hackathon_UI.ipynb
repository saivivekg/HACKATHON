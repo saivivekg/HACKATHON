{
 "cells": [
  {
   "cell_type": "code",
   "execution_count": 1,
   "metadata": {},
   "outputs": [
    {
     "name": "stderr",
     "output_type": "stream",
     "text": [
      "Using TensorFlow backend.\n"
     ]
    },
    {
     "name": "stdout",
     "output_type": "stream",
     "text": [
      "WARNING:tensorflow:From D:\\anaconda\\lib\\site-packages\\tensorflow\\python\\framework\\op_def_library.py:263: colocate_with (from tensorflow.python.framework.ops) is deprecated and will be removed in a future version.\n",
      "Instructions for updating:\n",
      "Colocations handled automatically by placer.\n",
      "WARNING:tensorflow:From D:\\anaconda\\lib\\site-packages\\tensorflow\\python\\ops\\math_ops.py:3066: to_int32 (from tensorflow.python.ops.math_ops) is deprecated and will be removed in a future version.\n",
      "Instructions for updating:\n",
      "Use tf.cast instead.\n"
     ]
    }
   ],
   "source": [
    "from keras.models import load_model\n",
    "import numpy as np\n",
    "import cv2\n",
    "model =load_model('C:/Users/saath/model1.h5')"
   ]
  },
  {
   "cell_type": "code",
   "execution_count": 2,
   "metadata": {},
   "outputs": [],
   "source": [
    "model.compile(optimizer='adam',loss='binary_crossentropy',metrics=['accuracy'])"
   ]
  },
  {
   "cell_type": "code",
   "execution_count": 3,
   "metadata": {},
   "outputs": [],
   "source": [
    "from skimage.transform import resize\n",
    "import tkinter as tk\n",
    "#root = Tk() \n",
    "def detect(frame):\n",
    "    try:\n",
    "\n",
    "        img= resize(frame,(64,64))\n",
    "        img = np.expand_dims(img,axis=0)\n",
    "        if(np.max(img)>1):\n",
    "            img =img/255.0\n",
    "        prediction =model.predict(img)\n",
    "        prediction_class = model.predict_classes(img)\n",
    "        if(prediction_class==0):\n",
    "            a=0\n",
    "        if(prediction_class==1):\n",
    "            a=1\n",
    "        w.pack_forget()\n",
    "        y.pack_forget()\n",
    "        if(a==0):\n",
    "            y.pack()\n",
    "        if(a==1):\n",
    "            w.pack()\n",
    "    except AttributeError:\n",
    "        print(\"shape not found\")"
   ]
  },
  {
   "cell_type": "code",
   "execution_count": null,
   "metadata": {},
   "outputs": [],
   "source": [
    "from tkinter import *\n",
    "from tkinter.filedialog  import askopenfilename   \n",
    "from PIL import ImageTk,Image\n",
    "root = Tk() \n",
    "\n",
    "def callback():\n",
    "    name= askopenfilename() \n",
    "    frame = cv2.imread(name)    \n",
    "    i=Image.open(name)\n",
    "    i = i.resize((300,300),Image.ANTIALIAS)\n",
    "    img = ImageTk.PhotoImage(i)  \n",
    "    canvas.create_image(20,20, anchor=NW, image=img) \n",
    "    canvas.image = img\n",
    "    canvas.pack() \n",
    "    detect(frame)\n",
    "errmsg = 'Error!'\n",
    "root.title('Gender Prediction')\n",
    "canvas = Canvas(root, width = 300, height = 300)  \n",
    "w=Label(root,text=\"Male\")\n",
    "y=Label(root,text=\"Female\")\n",
    "Button(text='Select File', command=callback).pack(fill=X)\n",
    "mainloop()"
   ]
  },
  {
   "cell_type": "code",
   "execution_count": null,
   "metadata": {},
   "outputs": [],
   "source": []
  },
  {
   "cell_type": "code",
   "execution_count": null,
   "metadata": {},
   "outputs": [],
   "source": []
  }
 ],
 "metadata": {
  "kernelspec": {
   "display_name": "Python 3",
   "language": "python",
   "name": "python3"
  },
  "language_info": {
   "codemirror_mode": {
    "name": "ipython",
    "version": 3
   },
   "file_extension": ".py",
   "mimetype": "text/x-python",
   "name": "python",
   "nbconvert_exporter": "python",
   "pygments_lexer": "ipython3",
   "version": "3.7.3"
  }
 },
 "nbformat": 4,
 "nbformat_minor": 2
}
