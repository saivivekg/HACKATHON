{
 "cells": [
  {
   "cell_type": "code",
   "execution_count": 1,
   "metadata": {},
   "outputs": [],
   "source": [
    "import os"
   ]
  },
  {
   "cell_type": "code",
   "execution_count": 6,
   "metadata": {},
   "outputs": [
    {
     "data": {
      "text/plain": [
       "'C:\\\\Users\\\\saath'"
      ]
     },
     "execution_count": 6,
     "metadata": {},
     "output_type": "execute_result"
    }
   ],
   "source": [
    "os.getcwd()"
   ]
  },
  {
   "cell_type": "code",
   "execution_count": 2,
   "metadata": {},
   "outputs": [],
   "source": [
    "import shutil"
   ]
  },
  {
   "cell_type": "code",
   "execution_count": 8,
   "metadata": {},
   "outputs": [],
   "source": [
    "dir=os.path.join(os.getcwd(),\"part1\")\n",
    "dest1=os.path.join(os.getcwd(),\"male\")\n",
    "dest2=os.path.join(os.getcwd(),\"female\")\n",
    "for f in os.listdir(dir):\n",
    "    a=f.split('_')\n",
    "    if(a[1]=='0'):\n",
    "        shutil.copy(os.path.join(dir,f),dest1)\n",
    "    else:\n",
    "        shutil.copy(os.path.join(dir,f),dest2)"
   ]
  },
  {
   "cell_type": "code",
   "execution_count": 25,
   "metadata": {},
   "outputs": [],
   "source": [
    "dir=os.path.join(os.getcwd(),\"part2\")\n",
    "dest1=os.path.join(os.getcwd(),\"maletest\")\n",
    "dest2=os.path.join(os.getcwd(),\"femaletest\")\n",
    "for f in os.listdir(dir):\n",
    "    a=f.split('_')\n",
    "    if(a[1]=='0'):\n",
    "        shutil.copy(os.path.join(dir,f),dest1)\n",
    "    else:\n",
    "        shutil.copy(os.path.join(dir,f),dest2)"
   ]
  },
  {
   "cell_type": "code",
   "execution_count": 5,
   "metadata": {},
   "outputs": [],
   "source": [
    "dir=os.path.join(os.getcwd(),\"part3\")\n",
    "dest1=os.path.join(os.getcwd(),\"maletest1\")\n",
    "dest2=os.path.join(os.getcwd(),\"femaletest1\")\n",
    "for f in os.listdir(dir):\n",
    "    a=f.split('_')\n",
    "    if(a[1]=='0'):\n",
    "        shutil.copy(os.path.join(dir,f),dest1)\n",
    "    else:\n",
    "        shutil.copy(os.path.join(dir,f),dest2)"
   ]
  },
  {
   "cell_type": "code",
   "execution_count": 3,
   "metadata": {},
   "outputs": [
    {
     "name": "stderr",
     "output_type": "stream",
     "text": [
      "Using TensorFlow backend.\n"
     ]
    }
   ],
   "source": [
    "from keras.models import Sequential\n",
    "from keras.layers import Dense\n",
    "from keras.layers import Conv2D\n",
    "from keras.layers import MaxPooling2D\n",
    "from keras.layers import Flatten"
   ]
  },
  {
   "cell_type": "code",
   "execution_count": 4,
   "metadata": {},
   "outputs": [],
   "source": [
    "model=Sequential()"
   ]
  },
  {
   "cell_type": "code",
   "execution_count": 11,
   "metadata": {},
   "outputs": [],
   "source": [
    "import cv2"
   ]
  },
  {
   "cell_type": "code",
   "execution_count": 13,
   "metadata": {},
   "outputs": [],
   "source": [
    "img=cv2.imread(\"C:/Users/saath/OneDrive/Desktop/Hackathon/male/1_0_0_20161219140623097.jpg\")"
   ]
  },
  {
   "cell_type": "code",
   "execution_count": 14,
   "metadata": {},
   "outputs": [
    {
     "data": {
      "text/plain": [
       "(183, 275, 3)"
      ]
     },
     "execution_count": 14,
     "metadata": {},
     "output_type": "execute_result"
    }
   ],
   "source": [
    "img.shape"
   ]
  },
  {
   "cell_type": "code",
   "execution_count": 5,
   "metadata": {},
   "outputs": [
    {
     "name": "stdout",
     "output_type": "stream",
     "text": [
      "WARNING:tensorflow:From D:\\anaconda\\lib\\site-packages\\tensorflow\\python\\framework\\op_def_library.py:263: colocate_with (from tensorflow.python.framework.ops) is deprecated and will be removed in a future version.\n",
      "Instructions for updating:\n",
      "Colocations handled automatically by placer.\n"
     ]
    },
    {
     "name": "stderr",
     "output_type": "stream",
     "text": [
      "D:\\anaconda\\lib\\site-packages\\ipykernel_launcher.py:1: UserWarning: Update your `Conv2D` call to the Keras 2 API: `Conv2D(32, (3, 3), input_shape=(64, 64, 3..., activation=\"relu\")`\n",
      "  \"\"\"Entry point for launching an IPython kernel.\n"
     ]
    }
   ],
   "source": [
    "model.add(Conv2D(32,3,3,input_shape=(64,64,3),activation='relu'))"
   ]
  },
  {
   "cell_type": "code",
   "execution_count": 6,
   "metadata": {},
   "outputs": [],
   "source": [
    "model.add(MaxPooling2D(pool_size=(2,2)))"
   ]
  },
  {
   "cell_type": "code",
   "execution_count": 7,
   "metadata": {},
   "outputs": [],
   "source": [
    "model.add(Flatten())"
   ]
  },
  {
   "cell_type": "code",
   "execution_count": 8,
   "metadata": {},
   "outputs": [
    {
     "name": "stderr",
     "output_type": "stream",
     "text": [
      "D:\\anaconda\\lib\\site-packages\\ipykernel_launcher.py:1: UserWarning: Update your `Dense` call to the Keras 2 API: `Dense(activation=\"relu\", units=128, kernel_initializer=\"random_uniform\")`\n",
      "  \"\"\"Entry point for launching an IPython kernel.\n"
     ]
    }
   ],
   "source": [
    "model.add(Dense(output_dim=128,activation='relu',init='random_uniform'))"
   ]
  },
  {
   "cell_type": "code",
   "execution_count": 9,
   "metadata": {},
   "outputs": [
    {
     "name": "stderr",
     "output_type": "stream",
     "text": [
      "D:\\anaconda\\lib\\site-packages\\ipykernel_launcher.py:1: UserWarning: Update your `Dense` call to the Keras 2 API: `Dense(activation=\"sigmoid\", units=1, kernel_initializer=\"random_uniform\")`\n",
      "  \"\"\"Entry point for launching an IPython kernel.\n"
     ]
    }
   ],
   "source": [
    "model.add(Dense(output_dim=1,activation='sigmoid',init='random_uniform'))"
   ]
  },
  {
   "cell_type": "code",
   "execution_count": 10,
   "metadata": {},
   "outputs": [],
   "source": [
    "model.compile(optimizer='adam',loss='binary_crossentropy',metrics=['accuracy'])"
   ]
  },
  {
   "cell_type": "code",
   "execution_count": 11,
   "metadata": {},
   "outputs": [],
   "source": [
    "from keras.preprocessing.image import ImageDataGenerator"
   ]
  },
  {
   "cell_type": "code",
   "execution_count": 12,
   "metadata": {},
   "outputs": [],
   "source": [
    "train_datagen=ImageDataGenerator(rescale=1./255,shear_range=0.2,zoom_range=0.2,horizontal_flip=True)\n",
    "test_datagen = ImageDataGenerator(rescale=1./255)"
   ]
  },
  {
   "cell_type": "code",
   "execution_count": 13,
   "metadata": {},
   "outputs": [
    {
     "name": "stdout",
     "output_type": "stream",
     "text": [
      "Found 10137 images belonging to 2 classes.\n",
      "Found 3250 images belonging to 2 classes.\n"
     ]
    }
   ],
   "source": [
    "x_train = train_datagen.flow_from_directory(r'D:/Hackathon/Training set',target_size=(64,64),batch_size=32,class_mode='binary')\n",
    "x_test = train_datagen.flow_from_directory(r'D:/Hackathon/Test set',target_size=(64,64),batch_size=32,class_mode='binary')"
   ]
  },
  {
   "cell_type": "code",
   "execution_count": 14,
   "metadata": {},
   "outputs": [
    {
     "name": "stdout",
     "output_type": "stream",
     "text": [
      "{'female': 0, 'male': 1}\n"
     ]
    }
   ],
   "source": [
    "print(x_train.class_indices)"
   ]
  },
  {
   "cell_type": "code",
   "execution_count": 15,
   "metadata": {},
   "outputs": [
    {
     "name": "stdout",
     "output_type": "stream",
     "text": [
      "WARNING:tensorflow:From D:\\anaconda\\lib\\site-packages\\tensorflow\\python\\ops\\math_ops.py:3066: to_int32 (from tensorflow.python.ops.math_ops) is deprecated and will be removed in a future version.\n",
      "Instructions for updating:\n",
      "Use tf.cast instead.\n",
      "Epoch 1/50\n",
      "250/250 [==============================] - 153s 613ms/step - loss: 0.6666 - acc: 0.5930 - val_loss: 0.7600 - val_acc: 0.4469\n",
      "Epoch 2/50\n",
      "250/250 [==============================] - 141s 565ms/step - loss: 0.6299 - acc: 0.6500 - val_loss: 0.6544 - val_acc: 0.6264\n",
      "Epoch 3/50\n",
      "250/250 [==============================] - 137s 548ms/step - loss: 0.6014 - acc: 0.6704 - val_loss: 0.7112 - val_acc: 0.5680\n",
      "Epoch 4/50\n",
      "250/250 [==============================] - 139s 555ms/step - loss: 0.5875 - acc: 0.6807 - val_loss: 0.5690 - val_acc: 0.6873\n",
      "Epoch 5/50\n",
      "250/250 [==============================] - 144s 574ms/step - loss: 0.5723 - acc: 0.6889 - val_loss: 0.6053 - val_acc: 0.6344\n",
      "Epoch 6/50\n",
      "250/250 [==============================] - 138s 551ms/step - loss: 0.5595 - acc: 0.7035 - val_loss: 0.6451 - val_acc: 0.6186\n",
      "Epoch 7/50\n",
      "250/250 [==============================] - 131s 526ms/step - loss: 0.5492 - acc: 0.7084 - val_loss: 0.5600 - val_acc: 0.6948\n",
      "Epoch 8/50\n",
      "250/250 [==============================] - 139s 555ms/step - loss: 0.5418 - acc: 0.7110 - val_loss: 0.5803 - val_acc: 0.6796\n",
      "Epoch 9/50\n",
      "250/250 [==============================] - 136s 542ms/step - loss: 0.5364 - acc: 0.7159 - val_loss: 0.5480 - val_acc: 0.7103\n",
      "Epoch 10/50\n",
      "250/250 [==============================] - 137s 550ms/step - loss: 0.5197 - acc: 0.7293 - val_loss: 0.5691 - val_acc: 0.6818\n",
      "Epoch 11/50\n",
      "250/250 [==============================] - 139s 555ms/step - loss: 0.5158 - acc: 0.7282 - val_loss: 0.4811 - val_acc: 0.7614\n",
      "Epoch 12/50\n",
      "250/250 [==============================] - 137s 547ms/step - loss: 0.5142 - acc: 0.7400 - val_loss: 0.5716 - val_acc: 0.6758\n",
      "Epoch 13/50\n",
      "250/250 [==============================] - 136s 543ms/step - loss: 0.5021 - acc: 0.7401 - val_loss: 0.5371 - val_acc: 0.7068\n",
      "Epoch 14/50\n",
      "250/250 [==============================] - 136s 545ms/step - loss: 0.5051 - acc: 0.7419 - val_loss: 0.5095 - val_acc: 0.7242\n",
      "Epoch 15/50\n",
      "250/250 [==============================] - 138s 552ms/step - loss: 0.4858 - acc: 0.7558 - val_loss: 0.4960 - val_acc: 0.7552\n",
      "Epoch 16/50\n",
      "250/250 [==============================] - 137s 548ms/step - loss: 0.4779 - acc: 0.7581 - val_loss: 0.5738 - val_acc: 0.6796\n",
      "Epoch 17/50\n",
      "250/250 [==============================] - 136s 545ms/step - loss: 0.4729 - acc: 0.7681 - val_loss: 0.4980 - val_acc: 0.7438\n",
      "Epoch 18/50\n",
      "250/250 [==============================] - 138s 554ms/step - loss: 0.4668 - acc: 0.7641 - val_loss: 0.5402 - val_acc: 0.7218\n",
      "Epoch 19/50\n",
      "250/250 [==============================] - 138s 551ms/step - loss: 0.4599 - acc: 0.7724 - val_loss: 0.5119 - val_acc: 0.7396\n",
      "Epoch 20/50\n",
      "250/250 [==============================] - 140s 559ms/step - loss: 0.4485 - acc: 0.7789 - val_loss: 0.4477 - val_acc: 0.7847\n",
      "Epoch 21/50\n",
      "250/250 [==============================] - 137s 546ms/step - loss: 0.4406 - acc: 0.7826 - val_loss: 0.5362 - val_acc: 0.7302\n",
      "Epoch 22/50\n",
      "250/250 [==============================] - 139s 558ms/step - loss: 0.4398 - acc: 0.7857 - val_loss: 0.5207 - val_acc: 0.7448\n",
      "Epoch 23/50\n",
      "250/250 [==============================] - 142s 570ms/step - loss: 0.4402 - acc: 0.7834 - val_loss: 0.5642 - val_acc: 0.7198\n",
      "Epoch 24/50\n",
      "250/250 [==============================] - 157s 629ms/step - loss: 0.4204 - acc: 0.7957 - val_loss: 0.5283 - val_acc: 0.7316\n",
      "Epoch 25/50\n",
      "250/250 [==============================] - 172s 686ms/step - loss: 0.4240 - acc: 0.7986 - val_loss: 0.5186 - val_acc: 0.7388\n",
      "Epoch 26/50\n",
      "250/250 [==============================] - 162s 649ms/step - loss: 0.4120 - acc: 0.8049 - val_loss: 0.5203 - val_acc: 0.7507\n",
      "Epoch 27/50\n",
      "250/250 [==============================] - 177s 708ms/step - loss: 0.4056 - acc: 0.8070 - val_loss: 0.5070 - val_acc: 0.7564\n",
      "Epoch 28/50\n",
      "250/250 [==============================] - 173s 693ms/step - loss: 0.4033 - acc: 0.8053 - val_loss: 0.5514 - val_acc: 0.7517\n",
      "Epoch 29/50\n",
      "250/250 [==============================] - 151s 605ms/step - loss: 0.4009 - acc: 0.8145 - val_loss: 0.5035 - val_acc: 0.7510\n",
      "Epoch 30/50\n",
      "250/250 [==============================] - 141s 563ms/step - loss: 0.3825 - acc: 0.8224 - val_loss: 0.5384 - val_acc: 0.7532\n",
      "Epoch 31/50\n",
      "250/250 [==============================] - 139s 557ms/step - loss: 0.3868 - acc: 0.8132 - val_loss: 0.5396 - val_acc: 0.7448\n",
      "Epoch 32/50\n",
      "250/250 [==============================] - 138s 552ms/step - loss: 0.3788 - acc: 0.8214 - val_loss: 0.5982 - val_acc: 0.7242\n",
      "Epoch 33/50\n",
      "250/250 [==============================] - 137s 547ms/step - loss: 0.3874 - acc: 0.8198 - val_loss: 0.5207 - val_acc: 0.7607\n",
      "Epoch 34/50\n",
      "250/250 [==============================] - 134s 538ms/step - loss: 0.3651 - acc: 0.8284 - val_loss: 0.6086 - val_acc: 0.7103\n",
      "Epoch 35/50\n",
      "250/250 [==============================] - 136s 544ms/step - loss: 0.3639 - acc: 0.8285 - val_loss: 0.6095 - val_acc: 0.7049\n",
      "Epoch 36/50\n",
      "250/250 [==============================] - 142s 568ms/step - loss: 0.3493 - acc: 0.8470 - val_loss: 0.5466 - val_acc: 0.7607\n",
      "Epoch 37/50\n",
      "250/250 [==============================] - 156s 624ms/step - loss: 0.3540 - acc: 0.8402 - val_loss: 0.6671 - val_acc: 0.7019\n",
      "Epoch 38/50\n",
      "250/250 [==============================] - 149s 596ms/step - loss: 0.3515 - acc: 0.8396 - val_loss: 0.5276 - val_acc: 0.7592\n",
      "Epoch 39/50\n",
      "250/250 [==============================] - 142s 569ms/step - loss: 0.3377 - acc: 0.8448 - val_loss: 0.5682 - val_acc: 0.7463\n",
      "Epoch 40/50\n",
      "250/250 [==============================] - 173s 692ms/step - loss: 0.3304 - acc: 0.8523 - val_loss: 0.5919 - val_acc: 0.7545\n",
      "Epoch 41/50\n",
      "250/250 [==============================] - 165s 662ms/step - loss: 0.3358 - acc: 0.8475 - val_loss: 0.5948 - val_acc: 0.7463\n",
      "Epoch 42/50\n",
      "250/250 [==============================] - 169s 675ms/step - loss: 0.3271 - acc: 0.8520 - val_loss: 0.6555 - val_acc: 0.7321\n",
      "Epoch 43/50\n",
      "250/250 [==============================] - 170s 678ms/step - loss: 0.3229 - acc: 0.8549 - val_loss: 0.6700 - val_acc: 0.7398\n",
      "Epoch 44/50\n",
      "250/250 [==============================] - 175s 699ms/step - loss: 0.3128 - acc: 0.8665 - val_loss: 0.5488 - val_acc: 0.7707\n",
      "Epoch 45/50\n",
      "250/250 [==============================] - 165s 659ms/step - loss: 0.3177 - acc: 0.8551 - val_loss: 0.6434 - val_acc: 0.7351\n",
      "Epoch 46/50\n",
      "250/250 [==============================] - 174s 695ms/step - loss: 0.3150 - acc: 0.8600 - val_loss: 0.6046 - val_acc: 0.7567\n",
      "Epoch 47/50\n",
      "250/250 [==============================] - 172s 687ms/step - loss: 0.3093 - acc: 0.8628 - val_loss: 0.5364 - val_acc: 0.7852\n",
      "Epoch 48/50\n",
      "250/250 [==============================] - 171s 685ms/step - loss: 0.2923 - acc: 0.8719 - val_loss: 0.6745 - val_acc: 0.7321\n",
      "Epoch 49/50\n",
      "250/250 [==============================] - 170s 682ms/step - loss: 0.3003 - acc: 0.8669 - val_loss: 0.6469 - val_acc: 0.7468\n",
      "Epoch 50/50\n",
      "250/250 [==============================] - 170s 678ms/step - loss: 0.2897 - acc: 0.8764 - val_loss: 0.6899 - val_acc: 0.7560\n"
     ]
    },
    {
     "data": {
      "text/plain": [
       "<keras.callbacks.History at 0x1d6bc7be710>"
      ]
     },
     "execution_count": 15,
     "metadata": {},
     "output_type": "execute_result"
    }
   ],
   "source": [
    "model.fit_generator(x_train,steps_per_epoch=250,epochs=50,validation_data=x_test,validation_steps=63)"
   ]
  },
  {
   "cell_type": "code",
   "execution_count": 16,
   "metadata": {},
   "outputs": [],
   "source": [
    "model.save('model1.h5')"
   ]
  },
  {
   "cell_type": "code",
   "execution_count": 2,
   "metadata": {},
   "outputs": [
    {
     "name": "stderr",
     "output_type": "stream",
     "text": [
      "Using TensorFlow backend.\n"
     ]
    },
    {
     "name": "stdout",
     "output_type": "stream",
     "text": [
      "WARNING:tensorflow:From D:\\anaconda\\lib\\site-packages\\tensorflow\\python\\framework\\op_def_library.py:263: colocate_with (from tensorflow.python.framework.ops) is deprecated and will be removed in a future version.\n",
      "Instructions for updating:\n",
      "Colocations handled automatically by placer.\n",
      "WARNING:tensorflow:From D:\\anaconda\\lib\\site-packages\\tensorflow\\python\\ops\\math_ops.py:3066: to_int32 (from tensorflow.python.ops.math_ops) is deprecated and will be removed in a future version.\n",
      "Instructions for updating:\n",
      "Use tf.cast instead.\n"
     ]
    }
   ],
   "source": [
    "from keras.models import load_model\n",
    "import numpy as np\n",
    "import cv2\n",
    "model =load_model('C:/Users/saath/model1.h5')"
   ]
  },
  {
   "cell_type": "code",
   "execution_count": 3,
   "metadata": {},
   "outputs": [],
   "source": [
    "model.compile(optimizer='adam',loss='binary_crossentropy',metrics=['accuracy'])"
   ]
  },
  {
   "cell_type": "code",
   "execution_count": 4,
   "metadata": {},
   "outputs": [],
   "source": [
    "from skimage.transform import resize\n",
    "def detect(frame):\n",
    "    try:\n",
    "        img= resize(frame,(64,64))\n",
    "        img = np.expand_dims(img,axis=0)\n",
    "        if(np.max(img)>1):\n",
    "            img =img/255.0\n",
    "        prediction =model.predict(img)\n",
    "        print (prediction)\n",
    "        prediction_class = model.predict_classes(img)\n",
    "        print(prediction_class)\n",
    "    except AttributeError:\n",
    "        print(\"shape not found\")"
   ]
  },
  {
   "cell_type": "code",
   "execution_count": 17,
   "metadata": {},
   "outputs": [
    {
     "name": "stdout",
     "output_type": "stream",
     "text": [
      "[[0.5973241]]\n",
      "[[1]]\n"
     ]
    }
   ],
   "source": [
    "frame= cv2.imread(\"C:/Users/saath/OneDrive/Desktop/male.jpg\")\n",
    "data= detect(frame)"
   ]
  },
  {
   "cell_type": "code",
   "execution_count": null,
   "metadata": {},
   "outputs": [],
   "source": []
  }
 ],
 "metadata": {
  "kernelspec": {
   "display_name": "Python 3",
   "language": "python",
   "name": "python3"
  },
  "language_info": {
   "codemirror_mode": {
    "name": "ipython",
    "version": 3
   },
   "file_extension": ".py",
   "mimetype": "text/x-python",
   "name": "python",
   "nbconvert_exporter": "python",
   "pygments_lexer": "ipython3",
   "version": "3.7.3"
  }
 },
 "nbformat": 4,
 "nbformat_minor": 2
}
